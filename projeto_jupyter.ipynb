{
 "cells": [
  {
   "cell_type": "code",
   "execution_count": 1771,
   "metadata": {},
   "outputs": [
    {
     "name": "stderr",
     "output_type": "stream",
     "text": [
      "C:\\Users\\xrafa\\AppData\\Local\\Temp\\ipykernel_6584\\548970112.py:9: DtypeWarning: Columns (12) have mixed types. Specify dtype option on import or set low_memory=False.\n",
      "  df = pd.read_csv(file_path, delimiter=',', skipinitialspace=True)\n"
     ]
    }
   ],
   "source": [
    "import pandas as pd\n",
    "import matplotlib.pyplot as plt\n",
    "import seaborn as sns\n",
    "from fpdf import FPDF\n",
    "\n",
    "sns.set_theme(style=\"whitegrid\")\n",
    "\n",
    "file_path = 'PDA_Dados_Cursos_Graduacao_Brasil.csv'\n",
    "df = pd.read_csv(file_path, delimiter=',', skipinitialspace=True)\n",
    "\n",
    "df['REGIAO'] = df['REGIAO'].str.strip().str.upper()\n",
    "df = df.dropna(subset=['REGIAO'])\n",
    "df = df[~df['REGIAO'].isin(['IGNORADO/EXTERIOR'])]\n"
   ]
  },
  {
   "cell_type": "markdown",
   "metadata": {},
   "source": [
    "Importação e Definição da Base de Dados"
   ]
  },
  {
   "cell_type": "markdown",
   "metadata": {},
   "source": [
    "Criando PDF"
   ]
  },
  {
   "cell_type": "code",
   "execution_count": 1772,
   "metadata": {},
   "outputs": [
    {
     "name": "stdout",
     "output_type": "stream",
     "text": [
      "Total de Cursos: 7497\n"
     ]
    },
    {
     "name": "stderr",
     "output_type": "stream",
     "text": [
      "C:\\Users\\xrafa\\AppData\\Local\\Temp\\ipykernel_6584\\2483195903.py:9: DeprecationWarning: Substituting font arial by core font helvetica - This is deprecated since v2.7.8, and will soon be removed\n",
      "  pdf.set_font('Arial', 'B', 16)\n",
      "C:\\Users\\xrafa\\AppData\\Local\\Temp\\ipykernel_6584\\2483195903.py:10: DeprecationWarning: The parameter \"ln\" is deprecated since v2.5.2. Instead of ln=1 use new_x=XPos.LMARGIN, new_y=YPos.NEXT.\n",
      "  pdf.cell(0, 10, 'Dados dos Cursos', 0, 1, 'C')\n",
      "C:\\Users\\xrafa\\AppData\\Local\\Temp\\ipykernel_6584\\2483195903.py:15: DeprecationWarning: Substituting font arial by core font helvetica - This is deprecated since v2.7.8, and will soon be removed\n",
      "  pdf.set_font('Arial', '', 12)\n",
      "C:\\Users\\xrafa\\AppData\\Local\\Temp\\ipykernel_6584\\2483195903.py:5: DeprecationWarning: Substituting font arial by core font helvetica - This is deprecated since v2.7.8, and will soon be removed\n",
      "  pdf.set_font('Arial', '', 12)\n"
     ]
    }
   ],
   "source": [
    "pdf = FPDF()\n",
    "pdf.add_page()\n",
    "\n",
    "def add_text(pdf, text):\n",
    "    pdf.set_font('Arial', '', 12)\n",
    "    pdf.multi_cell(0, 10, text)\n",
    "    pdf.ln(10)\n",
    "\n",
    "pdf.set_font('Arial', 'B', 16)\n",
    "pdf.cell(0, 10, 'Dados dos Cursos', 0, 1, 'C')\n",
    "\n",
    "total_cursos = df['CODIGO_CURSO'].nunique()\n",
    "print(f\"Total de Cursos: {total_cursos}\")\n",
    "\n",
    "pdf.set_font('Arial', '', 12)\n",
    "texto_apresentacao_inicial = f\"\"\"\n",
    "Analisamos os dados sobre cursos de graduação no Brasil.\n",
    "O relatório gerado apresenta uma análise detalhada dos cursos de graduação no Brasil com base em um conjunto de dados abrangente. O objetivo principal foi compreender a distribuição, a popularidade, onde estão concentradas e a situação atual dos cursos oferecidos pelas Instituições de Ensino Superior (IES) em diferentes regiões do país. A seguir, discutiremos as principais descobertas e tendências identificadas no estudo.\n",
    "\n",
    "Resumo das principais análises realizadas:\n",
    "\n",
    "1. Quantitativo Geral dos Cursos: Identificamos o total de cursos sendo um total de: {total_cursos} disponíveis, sendo essa uma das métricas básicas para compreensão do volume educacional\n",
    "2. Quantitativo por Categoria da IES: Analisamos a distribuição dos cursos com base na categoria da instituição de ensino superior (pública, privada, etc).\n",
    "3. Modalidade de Ensino por Região: Verificamos como as diferentes modalidades de ensino (presencial, à distância) estão distribuídas entre as regiões do Brasil.\n",
    "4. Situação dos Cursos: Comparação entre cursos em atividade, em extinção e já extintos.\n",
    "5. Cursos Mais Procurados: Avaliamos os cursos que possuem maior número de alunos matriculados, identificando tendências de popularidade.\n",
    "6. Distribuição Regional de Cursos por Habitante: Comparamos o número de cursos oferecidos em relação à população de cada região, para verificar a proporção de cursos por habitante.\n",
    "\n",
    "Essas análises fornecem uma visão abrangente sobre a estrutura educacional dos cursos de graduação no Brasil.\n",
    "\"\"\"\n",
    "\n",
    "add_text(pdf, texto_apresentacao_inicial)\n",
    "\n",
    "\n"
   ]
  },
  {
   "cell_type": "markdown",
   "metadata": {},
   "source": [
    "Quantitativo Geral Dos Cursos"
   ]
  },
  {
   "cell_type": "code",
   "execution_count": 1773,
   "metadata": {},
   "outputs": [
    {
     "name": "stdout",
     "output_type": "stream",
     "text": [
      "Total de Cursos: 7497\n"
     ]
    }
   ],
   "source": [
    "total_cursos = df['CODIGO_CURSO'].nunique()\n",
    "print(f\"Total de Cursos: {total_cursos}\")"
   ]
  },
  {
   "cell_type": "markdown",
   "metadata": {},
   "source": [
    "Quantitativo Por Categoria Da IES"
   ]
  },
  {
   "cell_type": "code",
   "execution_count": 1774,
   "metadata": {},
   "outputs": [
    {
     "name": "stdout",
     "output_type": "stream",
     "text": [
      "\n",
      "Distribuição por Categoria da IES:\n",
      "CATEGORIA_ADMINISTRATIVA\n",
      "Privada com fins lucrativos    29816\n",
      "Privada sem fins lucrativos     4539\n",
      "Pública Federal                  593\n",
      "Pública Estadual                 381\n",
      "Pública Municipal                127\n",
      "Especial                          31\n",
      "Name: count, dtype: int64\n"
     ]
    }
   ],
   "source": [
    "categoria_ies = df['CATEGORIA_ADMINISTRATIVA'].value_counts()\n",
    "print(\"\\nDistribuição por Categoria da IES:\")\n",
    "print(categoria_ies)"
   ]
  },
  {
   "cell_type": "markdown",
   "metadata": {},
   "source": [
    "Quantitativo por Organização Acadêmica"
   ]
  },
  {
   "cell_type": "code",
   "execution_count": 1775,
   "metadata": {},
   "outputs": [
    {
     "name": "stdout",
     "output_type": "stream",
     "text": [
      "\n",
      "Distribuição por Organização Acadêmica:\n",
      "ORGANIZACAO_ACADEMICA\n",
      "Centro Universitário                                   17422\n",
      "Universidade                                           16133\n",
      "Faculdade                                               1820\n",
      "Instituto Federal de Educação, Ciência e Tecnologia      111\n",
      "Centro Federal de Educação Tecnológica                     1\n",
      "Name: count, dtype: int64\n"
     ]
    }
   ],
   "source": [
    "organizacao_academica = df['ORGANIZACAO_ACADEMICA'].value_counts()\n",
    "print(\"\\nDistribuição por Organização Acadêmica:\")\n",
    "print(organizacao_academica)"
   ]
  },
  {
   "cell_type": "markdown",
   "metadata": {},
   "source": [
    "Quantitativo por modalidade de ensino"
   ]
  },
  {
   "cell_type": "code",
   "execution_count": 1776,
   "metadata": {},
   "outputs": [
    {
     "name": "stdout",
     "output_type": "stream",
     "text": [
      "\n",
      "Distribuição por Modalidade de Ensino:\n",
      "MODALIDADE\n",
      "Educação a Distância    32640\n",
      "Educação Presencial      2847\n",
      "Name: count, dtype: int64\n"
     ]
    }
   ],
   "source": [
    "modalidade = df['MODALIDADE'].value_counts()\n",
    "print(\"\\nDistribuição por Modalidade de Ensino:\")\n",
    "print(modalidade)"
   ]
  },
  {
   "cell_type": "markdown",
   "metadata": {},
   "source": [
    "Distribuição de Categorias da IES e Organizaçôes Acadêmicas"
   ]
  },
  {
   "cell_type": "code",
   "execution_count": 1777,
   "metadata": {},
   "outputs": [
    {
     "name": "stderr",
     "output_type": "stream",
     "text": [
      "C:\\Users\\xrafa\\AppData\\Local\\Temp\\ipykernel_6584\\3042948887.py:2: DtypeWarning: Columns (12) have mixed types. Specify dtype option on import or set low_memory=False.\n",
      "  df = pd.read_csv(file_path, delimiter=',', skipinitialspace=True)\n"
     ]
    },
    {
     "name": "stdout",
     "output_type": "stream",
     "text": [
      "['SUDESTE' 'NORDESTE' 'SUL' 'CENTRO-OESTE' 'NORTE' 'IGNORADO/EXTERIOR' nan]\n"
     ]
    },
    {
     "name": "stderr",
     "output_type": "stream",
     "text": [
      "C:\\Users\\xrafa\\AppData\\Local\\Temp\\ipykernel_6584\\3042948887.py:18: FutureWarning: \n",
      "\n",
      "Passing `palette` without assigning `hue` is deprecated and will be removed in v0.14.0. Assign the `x` variable to `hue` and set `legend=False` for the same effect.\n",
      "\n",
      "  sns.barplot(x=categoria_ies.index, y=categoria_ies.values, palette='viridis')\n",
      "C:\\Users\\xrafa\\AppData\\Local\\Temp\\ipykernel_6584\\3042948887.py:25: FutureWarning: \n",
      "\n",
      "Passing `palette` without assigning `hue` is deprecated and will be removed in v0.14.0. Assign the `x` variable to `hue` and set `legend=False` for the same effect.\n",
      "\n",
      "  sns.barplot(x=organizacao_academica.index, y=organizacao_academica.values, palette='viridis')\n",
      "C:\\Users\\xrafa\\AppData\\Local\\Temp\\ipykernel_6584\\3042948887.py:38: DeprecationWarning: Substituting font arial by core font helvetica - This is deprecated since v2.7.8, and will soon be removed\n",
      "  pdf.set_font('Arial', 'B', 16)\n",
      "C:\\Users\\xrafa\\AppData\\Local\\Temp\\ipykernel_6584\\3042948887.py:39: DeprecationWarning: The parameter \"ln\" is deprecated since v2.5.2. Instead of ln=1 use new_x=XPos.LMARGIN, new_y=YPos.NEXT.\n",
      "  pdf.cell(0, 10, 'Distribuição de Categorias da IES e Organizações Acadêmicas', 0, 1, 'C')\n",
      "C:\\Users\\xrafa\\AppData\\Local\\Temp\\ipykernel_6584\\3042948887.py:45: DeprecationWarning: Substituting font arial by core font helvetica - This is deprecated since v2.7.8, and will soon be removed\n",
      "  pdf.set_font('Arial', '', 12)\n",
      "C:\\Users\\xrafa\\AppData\\Local\\Temp\\ipykernel_6584\\2483195903.py:5: DeprecationWarning: Substituting font arial by core font helvetica - This is deprecated since v2.7.8, and will soon be removed\n",
      "  pdf.set_font('Arial', '', 12)\n"
     ]
    }
   ],
   "source": [
    "file_path = 'PDA_Dados_Cursos_Graduacao_Brasil.csv'\n",
    "df = pd.read_csv(file_path, delimiter=',', skipinitialspace=True)\n",
    "\n",
    "print(df['REGIAO'].unique())\n",
    "\n",
    "df['REGIAO'] = df['REGIAO'].str.strip().str.upper()\n",
    "\n",
    "df = df.dropna(subset=['REGIAO'])\n",
    "df = df[~df['REGIAO'].isin(['IGNORADO', 'EXTERIOR'])]\n",
    "\n",
    "categoria_ies = df['CATEGORIA_ADMINISTRATIVA'].value_counts()\n",
    "\n",
    "organizacao_academica = df['ORGANIZACAO_ACADEMICA'].value_counts()\n",
    "\n",
    "plt.figure(figsize=(16, 14))\n",
    "\n",
    "plt.subplot(2, 2, 1)\n",
    "sns.barplot(x=categoria_ies.index, y=categoria_ies.values, palette='viridis')\n",
    "plt.title('Distribuição por Categoria da IES')\n",
    "plt.xlabel('Categoria')\n",
    "plt.ylabel('Quantidade')\n",
    "plt.xticks(rotation=90)\n",
    "\n",
    "plt.subplot(2, 2, 2)\n",
    "sns.barplot(x=organizacao_academica.index, y=organizacao_academica.values, palette='viridis')\n",
    "plt.title('Distribuição por Organização Acadêmica')\n",
    "plt.xlabel('Organização Acadêmica')\n",
    "plt.ylabel('Quantidade')\n",
    "plt.xticks(rotation=90)\n",
    "\n",
    "plt.subplots_adjust(left=0.1, right=0.9, top=0.9, bottom=0.4, wspace=0.3, hspace=0.4)\n",
    "\n",
    "plt.savefig('grafico_combined_org_ies.png')\n",
    "plt.close()\n",
    "\n",
    "pdf.add_page()\n",
    "\n",
    "pdf.set_font('Arial', 'B', 16)\n",
    "pdf.cell(0, 10, 'Distribuição de Categorias da IES e Organizações Acadêmicas', 0, 1, 'C')\n",
    "\n",
    "\n",
    "pdf.image('grafico_combined_org_ies.png', x=10, y=30, w=190)\n",
    "\n",
    "pdf.ln(140)\n",
    "pdf.set_font('Arial', '', 12)\n",
    "\n",
    "texto_apresentacao_acad_ies = f\"\"\"\n",
    "A primeira análise realizada refere-se ao número total de cursos cadastrados no sistema educacional. Identificamos um total de {total_cursos} cursos ativos e disponíveis no Brasil. Esse número nos oferece uma visão geral do volume da oferta educacional no país, refletindo a diversidade e abrangência de cursos ofertados.\n",
    "Analisamos também a distribuição dos cursos por categoria administrativa das instituições (federais, estaduais, municipais, privadas). A análise revela que a maioria dos cursos é oferecida por instituições privadas, com uma contribuição significativa das instituições federais. Além disso, quando observamos a organização acadêmica, verificamos que as universidades e centros universitários são os principais tipos de organização a ofertar cursos, o que demonstra a predominância dessas instituições no ensino superior brasileiro.\n",
    "\"\"\"\n",
    "\n",
    "add_text(pdf, texto_apresentacao_acad_ies)\n"
   ]
  },
  {
   "cell_type": "markdown",
   "metadata": {},
   "source": [
    "Grafico Demonstrando o Quantitativo Geral Organizado Por Situações"
   ]
  },
  {
   "cell_type": "code",
   "execution_count": 1778,
   "metadata": {},
   "outputs": [
    {
     "name": "stderr",
     "output_type": "stream",
     "text": [
      "C:\\Users\\xrafa\\AppData\\Local\\Temp\\ipykernel_6584\\1511829517.py:2: DtypeWarning: Columns (12) have mixed types. Specify dtype option on import or set low_memory=False.\n",
      "  df = pd.read_csv(file_path, delimiter=',', skipinitialspace=True)\n",
      "C:\\Users\\xrafa\\AppData\\Local\\Temp\\ipykernel_6584\\1511829517.py:24: FutureWarning: \n",
      "\n",
      "Passing `palette` without assigning `hue` is deprecated and will be removed in v0.14.0. Assign the `x` variable to `hue` and set `legend=False` for the same effect.\n",
      "\n",
      "  sns.barplot(x=modalidade.index, y=modalidade.values, palette='viridis')\n",
      "C:\\Users\\xrafa\\AppData\\Local\\Temp\\ipykernel_6584\\1511829517.py:31: FutureWarning: \n",
      "\n",
      "Passing `palette` without assigning `hue` is deprecated and will be removed in v0.14.0. Assign the `x` variable to `hue` and set `legend=False` for the same effect.\n",
      "\n",
      "  sns.barplot(x='Nome do Curso', y='Quantidade', data=cursos_df, palette='viridis')\n"
     ]
    },
    {
     "name": "stdout",
     "output_type": "stream",
     "text": [
      "['SUDESTE' 'NORDESTE' 'SUL' 'CENTRO-OESTE' 'NORTE' 'IGNORADO/EXTERIOR' nan]\n"
     ]
    },
    {
     "name": "stderr",
     "output_type": "stream",
     "text": [
      "C:\\Users\\xrafa\\AppData\\Local\\Temp\\ipykernel_6584\\1511829517.py:43: DeprecationWarning: Substituting font arial by core font helvetica - This is deprecated since v2.7.8, and will soon be removed\n",
      "  pdf.set_font('Arial', 'B', 16)\n",
      "C:\\Users\\xrafa\\AppData\\Local\\Temp\\ipykernel_6584\\1511829517.py:44: DeprecationWarning: The parameter \"ln\" is deprecated since v2.5.2. Instead of ln=1 use new_x=XPos.LMARGIN, new_y=YPos.NEXT.\n",
      "  pdf.cell(0, 10, 'Distribuição Geral dos Cursos', 0, 1, 'C')\n",
      "C:\\Users\\xrafa\\AppData\\Local\\Temp\\ipykernel_6584\\1511829517.py:52: DeprecationWarning: Substituting font arial by core font helvetica - This is deprecated since v2.7.8, and will soon be removed\n",
      "  pdf.set_font('Arial', '', 6)\n",
      "C:\\Users\\xrafa\\AppData\\Local\\Temp\\ipykernel_6584\\2483195903.py:5: DeprecationWarning: Substituting font arial by core font helvetica - This is deprecated since v2.7.8, and will soon be removed\n",
      "  pdf.set_font('Arial', '', 12)\n"
     ]
    }
   ],
   "source": [
    "file_path = 'PDA_Dados_Cursos_Graduacao_Brasil.csv'\n",
    "df = pd.read_csv(file_path, delimiter=',', skipinitialspace=True)\n",
    "\n",
    "print(df['REGIAO'].unique())\n",
    "\n",
    "df['REGIAO'] = df['REGIAO'].str.strip().str.upper()\n",
    "\n",
    "df = df.dropna(subset=['REGIAO'])\n",
    "df = df[~df['REGIAO'].isin(['IGNORADO', 'EXTERIOR'])]\n",
    "\n",
    "categoria_ies = df['CATEGORIA_ADMINISTRATIVA'].value_counts()\n",
    "\n",
    "organizacao_academica = df['ORGANIZACAO_ACADEMICA'].value_counts()\n",
    "\n",
    "modalidade = df['MODALIDADE'].value_counts()\n",
    "\n",
    "cursos_procurados = df['NOME_CURSO'].value_counts().head(10)\n",
    "cursos_df = cursos_procurados.reset_index()\n",
    "cursos_df.columns = ['Nome do Curso', 'Quantidade']\n",
    "\n",
    "plt.figure(figsize=(16, 13))\n",
    "\n",
    "plt.subplot(2, 2, 3)\n",
    "sns.barplot(x=modalidade.index, y=modalidade.values, palette='viridis')\n",
    "plt.title('Distribuição por Modalidade de Ensino')\n",
    "plt.xlabel('Modalidade')\n",
    "plt.ylabel('Quantidade')\n",
    "plt.xticks(rotation=90)\n",
    "\n",
    "plt.subplot(2, 2, 4)\n",
    "sns.barplot(x='Nome do Curso', y='Quantidade', data=cursos_df, palette='viridis')\n",
    "plt.title('Distribuições dos Cursos Mais Procurados')\n",
    "plt.xlabel('Nome do Curso')\n",
    "plt.ylabel('Quantidade')\n",
    "plt.xticks(rotation=90)\n",
    "\n",
    "plt.subplots_adjust(left=0.1, right=0.9, top=0.9, bottom=0.4, wspace=0.3, hspace=0.4)\n",
    "\n",
    "plt.savefig('grafico_combined.png')\n",
    "plt.close()\n",
    "\n",
    "pdf.add_page()\n",
    "pdf.set_font('Arial', 'B', 16)\n",
    "pdf.cell(0, 10, 'Distribuição Geral dos Cursos', 0, 1, 'C')\n",
    "pdf.image('grafico_combined.png', x=16, y=pdf.get_y(), w=180)\n",
    "\n",
    "texto_apresentacao_qnt_geral_org_sit = \"\"\"\n",
    "Com a crescente importância da educação a distância (EAD), também analisamos a distribuição da modalidade de ensino por região. Essa análise destacou um crescimento expressivo dos cursos a distância, principalmente em áreas menos densamente povoadas, como o Norte e o Centro-Oeste do Brasil. A pandemia acelerou essa tendência, mas os dados mostram que o EAD já vinha se consolidando como uma modalidade de ensino significativa em várias regiões por conta do desenvolvimento da tecnologia. Outro aspecto relevante abordado foi a distribuição dos cursos entre as modalidades de ensino presencial e a distância. Esta análise mostrou que há uma oferta expressiva de cursos à distância (EAD), um formato que tem crescido nos últimos anos, especialmente no contexto da pandemia e das novas demandas educacionais. Identificamos também os 20 cursos mais procurados no país, com destaque para áreas como Administração, Direito e Pedagogia. Esses cursos refletem as demandas do mercado de trabalho e a popularidade dessas áreas de conhecimento.\n",
    "\"\"\"\n",
    "\n",
    "pdf.ln(120)\n",
    "pdf.set_font('Arial', '', 6)\n",
    "add_text(pdf, texto_apresentacao_qnt_geral_org_sit)"
   ]
  },
  {
   "cell_type": "markdown",
   "metadata": {},
   "source": [
    "Situação dos cursos e Correlação dos Cursos em extinção/extintos em Comparação aos cursos em atividade"
   ]
  },
  {
   "cell_type": "code",
   "execution_count": 1779,
   "metadata": {},
   "outputs": [
    {
     "name": "stdout",
     "output_type": "stream",
     "text": [
      "\n",
      "Situação dos Cursos:\n",
      "SITUACAO_CURSO\n",
      "Em atividade    33533\n",
      "Extinto          1592\n",
      "Em extinção       391\n",
      "Name: count, dtype: int64\n",
      "Total de Cursos: 35516\n",
      "Percentual de Cursos Extintos em comparação com Cursos em Atividade: 4.75%\n",
      "Percentual de Cursos em Extinção em comparação com Cursos em Atividade: 1.17%\n"
     ]
    }
   ],
   "source": [
    "situacao_curso = df['SITUACAO_CURSO'].value_counts()\n",
    "print(\"\\nSituação dos Cursos:\")\n",
    "print(situacao_curso)\n",
    "\n",
    "df = pd.DataFrame({\n",
    "    'SITUACAO_CURSO': ['Em atividade'] * 33533 + ['Extinto'] * 1592 + ['Em extinção'] * 391\n",
    "})\n",
    "\n",
    "situacao_curso = df['SITUACAO_CURSO'].value_counts()\n",
    "\n",
    "total_cursos = situacao_curso.sum()\n",
    "\n",
    "cursos_atividade = situacao_curso.get('Em atividade', 0)\n",
    "cursos_extinto = situacao_curso.get('Extinto', 0)\n",
    "cursos_extincao = situacao_curso.get('Em extinção', 0)\n",
    "\n",
    "percent_extinto = (cursos_extinto / cursos_atividade) * 100\n",
    "percent_extincao = (cursos_extincao / cursos_atividade) * 100\n",
    "\n",
    "print(f\"Total de Cursos: {total_cursos}\")\n",
    "\n",
    "print(f\"Percentual de Cursos Extintos em comparação com Cursos em Atividade: {percent_extinto:.2f}%\")\n",
    "\n",
    "print(f\"Percentual de Cursos em Extinção em comparação com Cursos em Atividade: {percent_extincao:.2f}%\")"
   ]
  },
  {
   "cell_type": "markdown",
   "metadata": {},
   "source": [
    "Quantitativo de Cursos por Região"
   ]
  },
  {
   "cell_type": "code",
   "execution_count": 1780,
   "metadata": {},
   "outputs": [
    {
     "name": "stdout",
     "output_type": "stream",
     "text": [
      "\n",
      "Cursos por Região:\n",
      "REGIAO\n",
      "SUDESTE         13680\n",
      "NORDESTE         7914\n",
      "SUL              7472\n",
      "NORTE            3212\n",
      "CENTRO-OESTE     3209\n",
      "Name: count, dtype: int64\n"
     ]
    },
    {
     "name": "stderr",
     "output_type": "stream",
     "text": [
      "C:\\Users\\xrafa\\AppData\\Local\\Temp\\ipykernel_6584\\2913086325.py:2: DtypeWarning: Columns (12) have mixed types. Specify dtype option on import or set low_memory=False.\n",
      "  df = pd.read_csv(file_path, delimiter=',', skipinitialspace=True)\n"
     ]
    }
   ],
   "source": [
    "file_path = 'PDA_Dados_Cursos_Graduacao_Brasil.csv'\n",
    "df = pd.read_csv(file_path, delimiter=',', skipinitialspace=True)\n",
    "\n",
    "df['REGIAO'] = df['REGIAO'].str.strip().str.upper()\n",
    "df = df.dropna(subset=['REGIAO'])\n",
    "df = df[~df['REGIAO'].isin(['IGNORADO/EXTERIOR'])]\n",
    "\n",
    "\n",
    "cursos_por_regiao = df['REGIAO'].value_counts()\n",
    "print(\"\\nCursos por Região:\")\n",
    "print(cursos_por_regiao)"
   ]
  },
  {
   "cell_type": "markdown",
   "metadata": {},
   "source": [
    "Quantitativo da Modalidade de Ensino por Região"
   ]
  },
  {
   "cell_type": "code",
   "execution_count": 1781,
   "metadata": {},
   "outputs": [
    {
     "name": "stdout",
     "output_type": "stream",
     "text": [
      "\n",
      "Modalidade de Ensino por Região:\n",
      "MODALIDADE    Educação Presencial  Educação a Distância\n",
      "REGIAO                                                 \n",
      "CENTRO-OESTE                  258                  2951\n",
      "NORDESTE                      540                  7374\n",
      "NORTE                         203                  3009\n",
      "SUDESTE                      1310                 12370\n",
      "SUL                           536                  6936\n"
     ]
    },
    {
     "name": "stderr",
     "output_type": "stream",
     "text": [
      "C:\\Users\\xrafa\\AppData\\Local\\Temp\\ipykernel_6584\\3146597621.py:2: DtypeWarning: Columns (12) have mixed types. Specify dtype option on import or set low_memory=False.\n",
      "  df = pd.read_csv(file_path, delimiter=',', skipinitialspace=True)\n"
     ]
    }
   ],
   "source": [
    "file_path = 'PDA_Dados_Cursos_Graduacao_Brasil.csv'\n",
    "df = pd.read_csv(file_path, delimiter=',', skipinitialspace=True)\n",
    "\n",
    "df['REGIAO'] = df['REGIAO'].str.strip().str.upper()\n",
    "df = df.dropna(subset=['REGIAO'])\n",
    "df = df[~df['REGIAO'].isin(['IGNORADO/EXTERIOR'])]\n",
    "\n",
    "\n",
    "modalidade_por_regiao = pd.crosstab(df['REGIAO'], df['MODALIDADE'])\n",
    "print(\"\\nModalidade de Ensino por Região:\")\n",
    "print(modalidade_por_regiao)"
   ]
  },
  {
   "cell_type": "markdown",
   "metadata": {},
   "source": [
    "Quantitativo de Alunos por Curso"
   ]
  },
  {
   "cell_type": "code",
   "execution_count": 1782,
   "metadata": {},
   "outputs": [
    {
     "name": "stdout",
     "output_type": "stream",
     "text": [
      "                            Nome do Curso  Quantidade\n",
      "0                           ADMINISTRAÇÃO         924\n",
      "1                               PEDAGOGIA         875\n",
      "2                         EDUCAÇÃO FÍSICA         760\n",
      "3                      CIÊNCIAS CONTÁBEIS         724\n",
      "4              GESTÃO DE RECURSOS HUMANOS         671\n",
      "5                                HISTÓRIA         631\n",
      "6                              MATEMÁTICA         621\n",
      "7                               LOGÍSTICA         578\n",
      "8   ANÁLISE E DESENVOLVIMENTO DE SISTEMAS         578\n",
      "9                    PROCESSOS GERENCIAIS         555\n",
      "10                    CIÊNCIAS BIOLÓGICAS         539\n",
      "11                       GESTÃO COMERCIAL         537\n",
      "12                      GESTÃO FINANCEIRA         516\n",
      "13                              GEOGRAFIA         510\n",
      "14                         SERVIÇO SOCIAL         501\n",
      "15                         GESTÃO PÚBLICA         496\n",
      "16                              MARKETING         484\n",
      "17                       GESTÃO AMBIENTAL         474\n",
      "18                 ENGENHARIA DE PRODUÇÃO         463\n",
      "19                              FILOSOFIA         421\n"
     ]
    }
   ],
   "source": [
    "cursos_procurados = df['NOME_CURSO'].value_counts().head(20)\n",
    "\n",
    "cursos_df = cursos_procurados.reset_index()\n",
    "cursos_df.columns = ['Nome do Curso', 'Quantidade']\n",
    "\n",
    "print(cursos_df)"
   ]
  },
  {
   "cell_type": "markdown",
   "metadata": {},
   "source": [
    "Gráfico de Distribuição de Cursos por Região"
   ]
  },
  {
   "cell_type": "code",
   "execution_count": 1783,
   "metadata": {},
   "outputs": [
    {
     "name": "stderr",
     "output_type": "stream",
     "text": [
      "C:\\Users\\xrafa\\AppData\\Local\\Temp\\ipykernel_6584\\4221210912.py:2: FutureWarning: \n",
      "\n",
      "Passing `palette` without assigning `hue` is deprecated and will be removed in v0.14.0. Assign the `x` variable to `hue` and set `legend=False` for the same effect.\n",
      "\n",
      "  sns.countplot(data=df, x='REGIAO', palette='viridis')\n",
      "C:\\Users\\xrafa\\AppData\\Local\\Temp\\ipykernel_6584\\4221210912.py:10: DeprecationWarning: Substituting font arial by core font helvetica - This is deprecated since v2.7.8, and will soon be removed\n",
      "  pdf.set_font('Arial', 'B', 16)\n",
      "C:\\Users\\xrafa\\AppData\\Local\\Temp\\ipykernel_6584\\4221210912.py:11: DeprecationWarning: The parameter \"ln\" is deprecated since v2.5.2. Instead of ln=1 use new_x=XPos.LMARGIN, new_y=YPos.NEXT.\n",
      "  pdf.cell(0, 10, 'Distribuição de Cursos por Região', 0, 1, 'C')\n",
      "C:\\Users\\xrafa\\AppData\\Local\\Temp\\ipykernel_6584\\4221210912.py:20: DeprecationWarning: Substituting font arial by core font helvetica - This is deprecated since v2.7.8, and will soon be removed\n",
      "  pdf.set_font('Arial', '', 6)\n",
      "C:\\Users\\xrafa\\AppData\\Local\\Temp\\ipykernel_6584\\2483195903.py:5: DeprecationWarning: Substituting font arial by core font helvetica - This is deprecated since v2.7.8, and will soon be removed\n",
      "  pdf.set_font('Arial', '', 12)\n"
     ]
    }
   ],
   "source": [
    "plt.figure(figsize=(10, 6))\n",
    "sns.countplot(data=df, x='REGIAO', palette='viridis')\n",
    "plt.title('Distribuição de Cursos por Região')\n",
    "plt.xlabel('Região')\n",
    "plt.ylabel('Quantidade de Cursos')\n",
    "plt.savefig('grafico_cursos_regiao.png')\n",
    "plt.close()\n",
    "\n",
    "pdf.add_page()\n",
    "pdf.set_font('Arial', 'B', 16)\n",
    "pdf.cell(0, 10, 'Distribuição de Cursos por Região', 0, 1, 'C')\n",
    "pdf.image('grafico_cursos_regiao.png', x=10, y=pdf.get_y(), w=180)\n",
    "\n",
    "\n",
    "texto_apresentacao_dist_reg = \"\"\"\n",
    "O Gráfico de Distribuição de Cursos por Região oferece uma visão clara sobre como os cursos de graduação estão distribuídos pelas diferentes regiões do Brasil. Essa análise é fundamental para entender a concentração de oportunidades educacionais e identificar possíveis disparidades entre as regiões do país. De acordo com os dados, observa-se uma maior concentração de cursos nas regiões Sudeste e Nordeste, refletindo o desenvolvimento econômico e a busca por ensino nessas áreas. A região Sudeste, sendo a mais industrializada e urbanizada do país, destaca-se com uma quantidade expressiva de cursos. O Nordeste, apresenta uma grande oferta de cursos, o que demonstra esforços de expansão do ensino superior na região. Por outro lado, as regiões Norte e Centro-Oeste apresentam um número relativamente menor de cursos, o que pode refletir tanto o menor número de instituições quanto o menor foco de políticas públicas e demanda populacional em comparação com outras regiões. No entanto, essa distribuição sugere uma oportunidade para a expansão de instituições de ensino e o fortalecimento de políticas nessas áreas. Este gráfico, portanto, é uma ferramenta importante para compreender as assimetrias regionais na oferta de cursos de graduação e pode apoiar a tomada de decisões estratégicas para melhorar o acesso à educação superior em todo o país.\n",
    "\"\"\"\n",
    "\n",
    "pdf.ln(95)\n",
    "pdf.set_font('Arial', '', 6)\n",
    "add_text(pdf, texto_apresentacao_dist_reg)"
   ]
  },
  {
   "cell_type": "markdown",
   "metadata": {},
   "source": [
    "Grafico de Cursos por Habitante"
   ]
  },
  {
   "cell_type": "code",
   "execution_count": 1784,
   "metadata": {},
   "outputs": [
    {
     "name": "stderr",
     "output_type": "stream",
     "text": [
      "C:\\Users\\xrafa\\AppData\\Local\\Temp\\ipykernel_6584\\2061088279.py:2: DtypeWarning: Columns (12) have mixed types. Specify dtype option on import or set low_memory=False.\n",
      "  df = pd.read_csv(file_path, delimiter=',', skipinitialspace=True)\n",
      "C:\\Users\\xrafa\\AppData\\Local\\Temp\\ipykernel_6584\\2061088279.py:27: FutureWarning: \n",
      "\n",
      "Passing `palette` without assigning `hue` is deprecated and will be removed in v0.14.0. Assign the `x` variable to `hue` and set `legend=False` for the same effect.\n",
      "\n",
      "  sns.barplot(data=df_regiao, x='REGIAO', y='cursos_por_habitante', palette='coolwarm')\n"
     ]
    },
    {
     "name": "stdout",
     "output_type": "stream",
     "text": [
      "\n",
      "Dados Constando População Quantidade Total de Vagas x População:\n",
      "         REGIAO  total_vagas  populacao  cursos_por_habitante\n",
      "0  CENTRO-OESTE   25437515.0   84840113              0.299829\n",
      "1      NORDESTE   45266295.0   54658515              0.828165\n",
      "2         NORTE   23528143.0   17354884              1.355707\n",
      "3       SUDESTE   91558139.0   29937706              3.058288\n",
      "4           SUL   37782822.0   16289538              2.319453\n"
     ]
    },
    {
     "data": {
      "image/png": "[encoded data removed]",
      "text/plain": [
       "<Figure size 1200x700 with 1 Axes>"
      ]
     },
     "metadata": {},
     "output_type": "display_data"
    },
    {
     "name": "stderr",
     "output_type": "stream",
     "text": [
      "C:\\Users\\xrafa\\AppData\\Local\\Temp\\ipykernel_6584\\2061088279.py:35: DeprecationWarning: Substituting font arial by core font helvetica - This is deprecated since v2.7.8, and will soon be removed\n",
      "  pdf.set_font('Arial', 'B', 16)\n",
      "C:\\Users\\xrafa\\AppData\\Local\\Temp\\ipykernel_6584\\2061088279.py:36: DeprecationWarning: The parameter \"ln\" is deprecated since v2.5.2. Instead of ln=1 use new_x=XPos.LMARGIN, new_y=YPos.NEXT.\n",
      "  pdf.cell(0, 10, 'Proporção de Cursos por Habitante nas Regiões', 0, 1, 'C')\n",
      "C:\\Users\\xrafa\\AppData\\Local\\Temp\\ipykernel_6584\\2061088279.py:44: DeprecationWarning: Substituting font arial by core font helvetica - This is deprecated since v2.7.8, and will soon be removed\n",
      "  pdf.set_font('Arial', '', 6)\n",
      "C:\\Users\\xrafa\\AppData\\Local\\Temp\\ipykernel_6584\\2483195903.py:5: DeprecationWarning: Substituting font arial by core font helvetica - This is deprecated since v2.7.8, and will soon be removed\n",
      "  pdf.set_font('Arial', '', 12)\n",
      "C:\\Users\\xrafa\\AppData\\Local\\Temp\\ipykernel_6584\\2061088279.py:44: DeprecationWarning: Substituting font arial by core font helvetica - This is deprecated since v2.7.8, and will soon be removed\n",
      "  pdf.set_font('Arial', '', 6)\n",
      "C:\\Users\\xrafa\\AppData\\Local\\Temp\\ipykernel_6584\\2483195903.py:5: DeprecationWarning: Substituting font arial by core font helvetica - This is deprecated since v2.7.8, and will soon be removed\n",
      "  pdf.set_font('Arial', '', 12)\n"
     ]
    }
   ],
   "source": [
    "file_path = 'PDA_Dados_Cursos_Graduacao_Brasil.csv'\n",
    "df = pd.read_csv(file_path, delimiter=',', skipinitialspace=True)\n",
    "\n",
    "df['REGIAO'] = df['REGIAO'].str.strip().str.upper()\n",
    "df = df.dropna(subset=['REGIAO'])\n",
    "df = df[~df['REGIAO'].isin(['IGNORADO/EXTERIOR'])]\n",
    "\n",
    "df_regiao = df.groupby('REGIAO').agg({'QT_VAGAS_AUTORIZADAS': 'sum'}).reset_index().rename(columns={'QT_VAGAS_AUTORIZADAS': 'total_vagas'})\n",
    "df_populacao = pd.DataFrame({\n",
    "    'REGIAO': ['NORTE', 'NORDESTE', 'CENTRO-OESTE', 'SUDESTE', 'SUL'],\n",
    "    'populacao': [17354884, 54658515, 84840113, 29937706, 16289538]\n",
    "})\n",
    "\n",
    "df_regiao = df_regiao.merge(df_populacao, on='REGIAO', how='left')\n",
    "\n",
    "df_regiao['cursos_por_habitante'] = df_regiao['total_vagas'] / df_regiao['populacao']\n",
    "\n",
    "df['REGIAO'] = df['REGIAO'].str.strip().str.upper()\n",
    "df = df.dropna(subset=['REGIAO'])\n",
    "df = df[~df['REGIAO'].isin(['IGNORADO/EXTERIOR'])]\n",
    "\n",
    "\n",
    "print(\"\\nDados Constando População Quantidade Total de Vagas x População:\")\n",
    "print(df_regiao)\n",
    "\n",
    "plt.figure(figsize=(12, 7))\n",
    "sns.barplot(data=df_regiao, x='REGIAO', y='cursos_por_habitante', palette='coolwarm')\n",
    "plt.title('Proporção de Cursos por Habitante nas Regiões')\n",
    "plt.xlabel('Região')\n",
    "plt.ylabel('Cursos por Habitante')\n",
    "plt.savefig('grafico_cursos_por_habitante.png')\n",
    "plt.show()\n",
    "\n",
    "pdf.add_page()\n",
    "pdf.set_font('Arial', 'B', 16)\n",
    "pdf.cell(0, 10, 'Proporção de Cursos por Habitante nas Regiões', 0, 1, 'C')\n",
    "pdf.image('grafico_cursos_por_habitante.png', x=10, y=pdf.get_y(), w=180)\n",
    "\n",
    "texto_apresentacao_cur_hab = \"\"\"\n",
    "Também foi analisada a distribuição regional de cursos em relação à população de cada região, gerando uma métrica de cursos por habitante. As regiões Sudeste e Sul possuem o maior número de cursos por habitante, enquanto o Norte apresenta uma menor oferta relativa. Isso revela possíveis disparidades regionais na oferta educacional e pode indicar a necessidade de políticas públicas para melhorar o acesso à educação superior em regiões menos atendidas.\n",
    "\"\"\"\n",
    "\n",
    "pdf.ln(120)\n",
    "pdf.set_font('Arial', '', 6)\n",
    "add_text(pdf, texto_apresentacao_cur_hab)"
   ]
  },
  {
   "cell_type": "markdown",
   "metadata": {},
   "source": [
    "Grafico de Situação dos Cursos por Região"
   ]
  },
  {
   "cell_type": "code",
   "execution_count": 1785,
   "metadata": {},
   "outputs": [
    {
     "name": "stderr",
     "output_type": "stream",
     "text": [
      "C:\\Users\\xrafa\\AppData\\Local\\Temp\\ipykernel_6584\\3779585792.py:2: DtypeWarning: Columns (12) have mixed types. Specify dtype option on import or set low_memory=False.\n",
      "  df = pd.read_csv(file_path, delimiter=',', skipinitialspace=True)\n"
     ]
    },
    {
     "name": "stdout",
     "output_type": "stream",
     "text": [
      "\n",
      "Distribuição da Situação dos Cursos por Região:\n",
      "SITUACAO_CURSO  Em atividade  Em extinção  Extinto\n",
      "REGIAO                                            \n",
      "CENTRO-OESTE            3025           28      156\n",
      "NORDESTE                7595           42      277\n",
      "NORTE                   3078           32      102\n",
      "SUDESTE                12746          217      717\n",
      "SUL                     7060           72      340\n"
     ]
    },
    {
     "data": {
      "image/png": "[encoded data removed]",
      "text/plain": [
       "<Figure size 1200x800 with 1 Axes>"
      ]
     },
     "metadata": {},
     "output_type": "display_data"
    },
    {
     "name": "stderr",
     "output_type": "stream",
     "text": [
      "C:\\Users\\xrafa\\AppData\\Local\\Temp\\ipykernel_6584\\3779585792.py:23: DeprecationWarning: Substituting font arial by core font helvetica - This is deprecated since v2.7.8, and will soon be removed\n",
      "  pdf.set_font('Arial', 'B', 16)\n",
      "C:\\Users\\xrafa\\AppData\\Local\\Temp\\ipykernel_6584\\3779585792.py:24: DeprecationWarning: The parameter \"ln\" is deprecated since v2.5.2. Instead of ln=1 use new_x=XPos.LMARGIN, new_y=YPos.NEXT.\n",
      "  pdf.cell(0, 10, 'Distribuição da Situação dos Cursos por Região', 0, 1, 'C')\n",
      "C:\\Users\\xrafa\\AppData\\Local\\Temp\\ipykernel_6584\\3779585792.py:32: DeprecationWarning: Substituting font arial by core font helvetica - This is deprecated since v2.7.8, and will soon be removed\n",
      "  pdf.set_font('Arial', '', 6)\n",
      "C:\\Users\\xrafa\\AppData\\Local\\Temp\\ipykernel_6584\\2483195903.py:5: DeprecationWarning: Substituting font arial by core font helvetica - This is deprecated since v2.7.8, and will soon be removed\n",
      "  pdf.set_font('Arial', '', 12)\n"
     ]
    }
   ],
   "source": [
    "file_path = 'PDA_Dados_Cursos_Graduacao_Brasil.csv'\n",
    "df = pd.read_csv(file_path, delimiter=',', skipinitialspace=True)\n",
    "\n",
    "df['REGIAO'] = df['REGIAO'].str.strip().str.upper()\n",
    "df = df.dropna(subset=['REGIAO'])\n",
    "df = df[~df['REGIAO'].isin(['IGNORADO/EXTERIOR'])]\n",
    "\n",
    "\n",
    "df_situacao_regiao = df.groupby(['REGIAO', 'SITUACAO_CURSO']).agg({'CODIGO_CURSO': 'count'}).unstack(fill_value=0)\n",
    "df_situacao_regiao.columns = df_situacao_regiao.columns.droplevel()\n",
    "print(\"\\nDistribuição da Situação dos Cursos por Região:\")\n",
    "print(df_situacao_regiao)\n",
    "\n",
    "df_situacao_regiao.plot(kind='bar', stacked=True, figsize=(12, 8), colormap='tab20')\n",
    "plt.title('Distribuição da Situação dos Cursos por Região')\n",
    "plt.xlabel('Região')\n",
    "plt.ylabel('Número de Cursos')\n",
    "plt.legend(title='Situação do Curso')\n",
    "plt.savefig('grafico_situacao_cursos.png')\n",
    "plt.show()\n",
    "\n",
    "pdf.add_page()\n",
    "pdf.set_font('Arial', 'B', 16)\n",
    "pdf.cell(0, 10, 'Distribuição da Situação dos Cursos por Região', 0, 1, 'C')\n",
    "pdf.image('grafico_situacao_cursos.png', x=10, y=pdf.get_y(), w=190, h=120)\n",
    "\n",
    "texto_apresentacao_cur_hab = f\"\"\"\n",
    "Por fim, A situação dos cursos também foi um fator chave na análise. Identificamos que, embora a maioria dos cursos estejam em atividade, uma parte significativa está extinta ou em processo de extinção. Calculamos que cerca de {percent_extinto:.2f}% dos cursos já foram extintos, enquanto {percent_extincao:.2f}% estão atualmente em extinção, comparado ao total de cursos ativos. Isso demonstra como a dinâmica de oferta e demanda por certos cursos tem mudado ao longo dos anos. Essa análise permite uma visão clara das regiões com maior número de cursos extintos, em extinção e em atividade. Novamente, o Sudeste aparece como a região com maior concentração de cursos ativos, enquanto o Norte e o Centro-Oeste têm mais cursos em extinção, o que pode estar relacionado com a menor oferta e demanda ou uma pior aplicação das políticas públicas nessas áreas.\n",
    "\"\"\"\n",
    "\n",
    "pdf.ln(140)\n",
    "pdf.set_font('Arial', '', 6)\n",
    "add_text(pdf, texto_apresentacao_cur_hab)"
   ]
  },
  {
   "cell_type": "markdown",
   "metadata": {},
   "source": [
    "Gerando o PDF"
   ]
  },
  {
   "cell_type": "code",
   "execution_count": 1786,
   "metadata": {},
   "outputs": [
    {
     "name": "stdout",
     "output_type": "stream",
     "text": [
      "PDF gerado com sucesso!\n"
     ]
    }
   ],
   "source": [
    "pdf.output('relatorio_cursos.pdf')\n",
    "\n",
    "print(\"PDF gerado com sucesso!\")"
   ]
  }
 ],
 "metadata": {
  "kernelspec": {
   "display_name": "myenv",
   "language": "python",
   "name": "python3"
  },
  "language_info": {
   "codemirror_mode": {
    "name": "ipython",
    "version": 3
   },
   "file_extension": ".py",
   "mimetype": "text/x-python",
   "name": "python",
   "nbconvert_exporter": "python",
   "pygments_lexer": "ipython3",
   "version": "3.12.4"
  }
 },
 "nbformat": 4,
 "nbformat_minor": 2
}
